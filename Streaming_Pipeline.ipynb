{
  "cells": [
    {
      "cell_type": "markdown",
      "metadata": {
        "id": "view-in-github",
        "colab_type": "text"
      },
      "source": [
        "<a href=\"https://colab.research.google.com/github/harshalc108/Project-demo-pipelines/blob/main/Streaming_Pipeline.ipynb\" target=\"_parent\"><img src=\"https://colab.research.google.com/assets/colab-badge.svg\" alt=\"Open In Colab\"/></a>"
      ]
    },
    {
      "cell_type": "code",
      "execution_count": null,
      "metadata": {
        "id": "QDLyIsD-oTeH"
      },
      "outputs": [],
      "source": [
        "!pip install apache_beam[gcp]"
      ]
    },
    {
      "cell_type": "code",
      "execution_count": null,
      "metadata": {
        "colab": {
          "background_save": true
        },
        "id": "INVuDAT3miFk"
      },
      "outputs": [],
      "source": [
        "from apache_beam.transforms.window import FixedWindows\n",
        "from apache_beam.io.gcp.bigquery import WriteToBigQuery\n",
        "from apache_beam.options.pipeline_options import PipelineOptions, StandardOptions\n",
        "import argparse\n",
        "import os\n",
        "import time\n",
        "from apache_beam.options.pipeline_options import SetupOptions\n",
        "from datetime import date\n",
        "from google.cloud import bigquery\n",
        "from apache_beam import window\n",
        "from apache_beam.transforms.trigger import AfterWatermark, AfterProcessingTime, AccumulationMode, AfterCount, Repeatedly\n",
        "\n",
        "path1='bigquery-demo-335405-d7f1212692d0.json'\n",
        "os.environ[\"GOOGLE_APPLICATION_CREDENTIALS\"]=path1\n",
        "tab_id='StreamingData.sales_mode'\n",
        "import apache_beam as beam\n",
        "\n",
        "parser = argparse.ArgumentParser()\n",
        "# parser.add_argument('--my-arg')\n",
        "args, beam_args = parser.parse_known_args()\n",
        "\n",
        "# Create and set your Pipeline Options.\n",
        "beam_options = PipelineOptions(\n",
        "    beam_args,\n",
        "    runner='DataflowRunner',\n",
        "    temp_location='gs://demo_data0/temp1999/',\n",
        "    service_account_email='demo-python@bigquery-demo-335405.iam.gserviceaccount.com',\n",
        "    region='us-central1',\n",
        "    project='bigquery-demo-335405',\n",
        "    stage_location='gs://data_00/stage',\n",
        "    #save_main_session=True\n",
        "    )\n",
        "beam_options.view_as(StandardOptions).streaming=True\n",
        "#beam_options.view_as(SetupOptions).save_main_session = True \n",
        "client = bigquery.Client()\n",
        "\n",
        "dataset_id = \"bigquery-demo-335405.StreamingData\"\n",
        "\n",
        "try:\n",
        "  client.get_dataset(dataset_id)\n",
        "\n",
        "except:\n",
        "  dataset = bigquery.Dataset(dataset_id)  \n",
        "\n",
        "  dataset.location = \"US\"\n",
        "  dataset.description = \"dataset\"\n",
        "\n",
        "  dataset_ref = client.create_dataset(dataset)\n",
        " \n",
        "def decoding(e):\n",
        "  e=e.decode('utf-8')\n",
        "  return e[:-2]\n",
        "class AddTimestampDoFn(beam.DoFn):\n",
        "  def process(self,element):\n",
        "    yield TimestampedValue(element)\n",
        " \n",
        "input_subscription='projects/bigquery-demo-335405/subscriptions/data_from_file_sub'\n",
        "def to_json(fields):\n",
        "    json_str = {\"Region\":fields[0],\n",
        "                 \"Country\": fields[1],\n",
        "                 \"Item_Type\": fields[2],\n",
        "                 \"Sales_Channel\": fields[3],\n",
        "                \"Order_Priority\": fields[4],\n",
        "                \"Order_Date\": fields[5],\n",
        "                \"Order_ID\": fields[6],\n",
        "                \"Ship_Date\": fields[7],\n",
        "                \"Units_Sold\": fields[8],\n",
        "                \"Unit_Cost\": fields[9],\n",
        "                \"Total_Profit\": fields[10]\n",
        "                 }\n",
        "    \n",
        "    return json_str\n",
        "schema_1='Region:STRING,Country:STRING,Item_Type:STRING,Sales_Channel:STRING,Order_Priority:STRING,Order_Date:STRING,Order_ID:INTEGER,Ship_Date:STRING,Units_Sold:INTEGER,Unit_Cost:FLOAT,Total_Profit:FLOAT'\n",
        "with beam.Pipeline(options=beam_options) as pipeline:\n",
        "  data_ingestion=(\n",
        "    pipeline\n",
        "    | beam.io.ReadFromPubSub(subscription=input_subscription,timestamp_attribute=None)\n",
        "    | beam.Map(decoding)\n",
        "    | beam.Map(lambda x:x.split(','))\n",
        "    | beam.Map(to_json)\n",
        "   # | beam.Map(lambda x:beam.window.TimestampedValue(x,time.time()))\n",
        "   # | beam.ParDo(AddTimestampDoFn())\n",
        "    | beam.WindowInto(beam.window.FixedWindows(5))\n",
        "    # | beam.CombinePerKey()\n",
        "    | beam.io.WriteToBigQuery(\n",
        "                             tab_id,\n",
        "                             schema=schema_1,\n",
        "                             method=                                                                                \n",
        "                     beam.io.WriteToBigQuery.Method.FILE_LOADS,\n",
        "                             triggering_frequency=1, \n",
        "                             write_disposition=\n",
        "                     beam.io.BigQueryDisposition.WRITE_APPEND,\n",
        "                             create_disposition=\n",
        "                     beam.io.BigQueryDisposition.CREATE_IF_NEEDED\n",
        "        \n",
        "    )\n",
        ")"
      ]
    }
  ],
  "metadata": {
    "colab": {
      "collapsed_sections": [],
      "name": "Streaming_Pipeline.ipynb",
      "provenance": [],
      "authorship_tag": "ABX9TyPlWeKBVmYK/0VBkXmXW0Ex",
      "include_colab_link": true
    },
    "kernelspec": {
      "display_name": "Python 3",
      "name": "python3"
    },
    "language_info": {
      "name": "python"
    }
  },
  "nbformat": 4,
  "nbformat_minor": 0
}